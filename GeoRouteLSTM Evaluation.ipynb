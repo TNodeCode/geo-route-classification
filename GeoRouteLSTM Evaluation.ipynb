{
 "cells": [
  {
   "cell_type": "markdown",
   "metadata": {},
   "source": [
    "# GeoRoute LSTM Evaluation\n",
    "\n",
    "In this notebook we run the test dataaset through the model and compute the accuracy."
   ]
  },
  {
   "cell_type": "code",
   "execution_count": 1,
   "metadata": {},
   "outputs": [],
   "source": [
    "import numpy as np\n",
    "import torch\n",
    "from models.rnn import CellType\n",
    "from models.geo_route_lstm import GeoRouteLSTM\n",
    "from torch.utils.data import Dataset, DataLoader\n",
    "from dataset.geo_route import GeoRouteDataset, prepare_tensors\n",
    "\n",
    "%load_ext autoreload\n",
    "%autoreload 2"
   ]
  },
  {
   "cell_type": "code",
   "execution_count": 2,
   "metadata": {},
   "outputs": [
    {
     "name": "stdout",
     "output_type": "stream",
     "text": [
      "Device cpu\n"
     ]
    },
    {
     "name": "stderr",
     "output_type": "stream",
     "text": [
      "c:\\Users\\tilof\\AppData\\Local\\Programs\\Python\\Python310\\lib\\site-packages\\torch\\cuda\\__init__.py:740: UserWarning: CUDA initialization: CUDA unknown error - this may be due to an incorrectly set up environment, e.g. changing env variable CUDA_VISIBLE_DEVICES after program start. Setting the available devices to be zero. (Triggered internally at ..\\c10\\cuda\\CUDAFunctions.cpp:108.)\n",
      "  return torch._C._cuda_getDeviceCount() if nvml_count < 0 else nvml_count\n"
     ]
    }
   ],
   "source": [
    "# Find out if a CUDA device (GPU) is available\n",
    "if torch.cuda.device_count():\n",
    "    device=\"cuda\"\n",
    "else:\n",
    "    device=\"cpu\"\n",
    "print(\"Device\", device)"
   ]
  },
  {
   "cell_type": "code",
   "execution_count": 3,
   "metadata": {},
   "outputs": [],
   "source": [
    "# File that contains the data\n",
    "dataset_file = \"dataset_tiny.pkl.gz\"\n",
    "model_dict_file = \"geo_route_model.pt\"\n",
    "\n",
    "\n",
    "model_dict = torch.load(model_dict_file, map_location=torch.device(device))\n",
    "\n",
    "# Cell type (LSTM | GRU | RNN)\n",
    "cell_type=model_dict[\"cell_type\"]\n",
    "# Number of RNN layers\n",
    "num_layers=model_dict[\"num_layers\"]\n",
    "# Embedding dimension\n",
    "embedding_dim=model_dict[\"embedding_dim\"]\n",
    "# Hidden size of the RNN layers\n",
    "hidden_size=model_dict[\"hidden_size\"]\n",
    "# Batch size used for training\n",
    "batch_size=1024\n",
    "# Maximum sequence length\n",
    "max_length=model_dict[\"max_length\"]\n",
    "# True if bidirectional RNN layers should be used, False otherwise\n",
    "bidirectional=model_dict[\"bidirectional\"]"
   ]
  },
  {
   "cell_type": "code",
   "execution_count": 4,
   "metadata": {},
   "outputs": [],
   "source": [
    "# Create an instance of the dataset and a dataloader\n",
    "dataset = GeoRouteDataset(dataset_file)\n",
    "dataloader = DataLoader(dataset, batch_size=batch_size, shuffle=True, drop_last=True)"
   ]
  },
  {
   "cell_type": "code",
   "execution_count": 5,
   "metadata": {},
   "outputs": [
    {
     "data": {
      "text/plain": [
       "<All keys matched successfully>"
      ]
     },
     "execution_count": 5,
     "metadata": {},
     "output_type": "execute_result"
    }
   ],
   "source": [
    "# Instantiate the network\n",
    "net = GeoRouteLSTM(device=device).to(device)\n",
    "net.load_state_dict(model_dict[\"net_state_dict\"])"
   ]
  },
  {
   "cell_type": "code",
   "execution_count": 6,
   "metadata": {},
   "outputs": [
    {
     "data": {
      "text/plain": [
       "GeoRouteLSTM(\n",
       "  (embedding): GeoRouteEmbedding(\n",
       "    (embedding_src_as): Embedding(5, 2)\n",
       "    (embedding_dest_as): Embedding(52230, 16)\n",
       "    (embedding_src_cc): Embedding(4, 2)\n",
       "    (embedding_dest_cc): Embedding(231, 8)\n",
       "    (embedding_ip_source): Embedding(5, 3)\n",
       "    (embedding_geo_cc): Embedding(252, 8)\n",
       "    (embedding_asn): Embedding(397771, 19)\n",
       "  )\n",
       "  (encoder): RecurrentEncoder(\n",
       "    (rnn): LSTM(32, 256, num_layers=3, batch_first=True, dropout=0.1, bidirectional=True)\n",
       "  )\n",
       "  (classifier): Classifier(\n",
       "    (fc1): Linear(in_features=540, out_features=512, bias=True)\n",
       "    (fc2): Linear(in_features=512, out_features=2, bias=True)\n",
       "    (softmax): LogSoftmax(dim=2)\n",
       "  )\n",
       ")"
      ]
     },
     "execution_count": 6,
     "metadata": {},
     "output_type": "execute_result"
    }
   ],
   "source": [
    "# Switch to evaluation mode\n",
    "net.eval()"
   ]
  },
  {
   "cell_type": "code",
   "execution_count": 7,
   "metadata": {},
   "outputs": [
    {
     "name": "stdout",
     "output_type": "stream",
     "text": [
      "AccAll 0.939 Acc0 0.944 Acc1 0.848\n",
      "AccAll 0.944 Acc0 0.952 Acc1 0.73\n",
      "AccAll 0.95 Acc0 0.954 Acc1 0.88\n",
      "AccAll 0.946 Acc0 0.951 Acc1 0.848\n",
      "AccAll 0.94 Acc0 0.95 Acc1 0.769\n",
      "AccAll 0.942 Acc0 0.957 Acc1 0.66\n",
      "AccAll 0.941 Acc0 0.953 Acc1 0.725\n",
      "AccAll 0.958 Acc0 0.963 Acc1 0.875\n",
      "AccAll 0.947 Acc0 0.954 Acc1 0.8\n",
      "AccAll 0.936 Acc0 0.944 Acc1 0.761\n",
      "AccAll 0.951 Acc0 0.957 Acc1 0.852\n",
      "AccAll 0.939 Acc0 0.948 Acc1 0.771\n",
      "AccAll 0.942 Acc0 0.949 Acc1 0.83\n",
      "AccAll 0.947 Acc0 0.961 Acc1 0.738\n",
      "AccAll 0.952 Acc0 0.962 Acc1 0.739\n",
      "AccAll 0.943 Acc0 0.952 Acc1 0.8\n",
      "AccAll 0.95 Acc0 0.957 Acc1 0.795\n",
      "AccAll 0.939 Acc0 0.948 Acc1 0.676\n",
      "AccAll 0.951 Acc0 0.958 Acc1 0.791\n",
      "AccAll 0.95 Acc0 0.956 Acc1 0.852\n",
      "AccAll 0.941 Acc0 0.946 Acc1 0.862\n",
      "AccAll 0.951 Acc0 0.956 Acc1 0.806\n",
      "AccAll 0.952 Acc0 0.956 Acc1 0.87\n",
      "AccAll 0.95 Acc0 0.954 Acc1 0.857\n",
      "AccAll 0.936 Acc0 0.948 Acc1 0.738\n",
      "AccAll 0.945 Acc0 0.949 Acc1 0.877\n",
      "AccAll 0.953 Acc0 0.962 Acc1 0.776\n",
      "AccAll 0.938 Acc0 0.944 Acc1 0.833\n",
      "AccAll 0.948 Acc0 0.956 Acc1 0.778\n",
      "AccAll 0.943 Acc0 0.952 Acc1 0.838\n",
      "AccAll 0.936 Acc0 0.939 Acc1 0.86\n",
      "AccAll 0.954 Acc0 0.959 Acc1 0.833\n",
      "AccAll 0.943 Acc0 0.948 Acc1 0.862\n",
      "AccAll 0.949 Acc0 0.956 Acc1 0.83\n",
      "AccAll 0.942 Acc0 0.946 Acc1 0.873\n",
      "AccAll 0.942 Acc0 0.953 Acc1 0.77\n",
      "AccAll 0.948 Acc0 0.955 Acc1 0.786\n",
      "AccAll 0.932 Acc0 0.941 Acc1 0.78\n",
      "AccAll 0.958 Acc0 0.967 Acc1 0.776\n",
      "AccAll 0.94 Acc0 0.95 Acc1 0.769\n",
      "AccAll 0.942 Acc0 0.95 Acc1 0.783\n",
      "AccAll 0.955 Acc0 0.956 Acc1 0.945\n",
      "AccAll 0.94 Acc0 0.948 Acc1 0.8\n",
      "AccAll 0.943 Acc0 0.952 Acc1 0.784\n",
      "AccAll 0.954 Acc0 0.955 Acc1 0.917\n",
      "AccAll 0.94 Acc0 0.949 Acc1 0.778\n",
      "AccAll 0.95 Acc0 0.956 Acc1 0.864\n",
      "AccAll 0.93 Acc0 0.946 Acc1 0.623\n"
     ]
    }
   ],
   "source": [
    "n_class_0_all = 0\n",
    "n_class_1_all = 0\n",
    "accuracies_class_0 = []\n",
    "accuracies_class_1 = []\n",
    "\n",
    "# Get a batch of training data\n",
    "for src_as, dest_as, src_cc, dest_cc, lat, long, asn, ip_source, geo_cc, labels in dataloader:\n",
    "    src_as, dest_as, src_cc, dest_cc, lat, long, asn, ip_source, geo_cc, labels = prepare_tensors(\n",
    "        src_as, dest_as, src_cc, dest_cc, lat, long, asn, ip_source, geo_cc, labels, device=device\n",
    "    )\n",
    "\n",
    "    # Turn labels into torch.long\n",
    "    labels = labels.to(torch.long).to(device)\n",
    "        \n",
    "    # Create masks for positive and negative labels\n",
    "    mask_class_0 = labels.squeeze() == 0\n",
    "    mask_class_1 = labels.squeeze() == 1\n",
    "        \n",
    "    # Get logits for each of the two classes\n",
    "    logits = net(\n",
    "        lat=lat,\n",
    "        long=long,\n",
    "        asn=asn,\n",
    "        ip_source=ip_source,\n",
    "        geo_cc=geo_cc,\n",
    "        src_as=src_as,\n",
    "        dest_as=dest_as,\n",
    "        src_cc=src_cc,\n",
    "        dest_cc=dest_cc,\n",
    "    )\n",
    "        \n",
    "    # Get the most likely class for each input\n",
    "    topv, topi = logits.topk(1)\n",
    "        \n",
    "    # Get number of positive and neagtive samples\n",
    "    n_class_0 = mask_class_0.sum().item()\n",
    "    n_class_1 = mask_class_1.sum().item()\n",
    "\n",
    "    # Update number of total items\n",
    "    n_class_0_all += n_class_0\n",
    "    n_class_1_all += n_class_1\n",
    "        \n",
    "    # Compute total accuracy and accuracies for both positive and negative samples\n",
    "    matchings = labels.squeeze() == topi.squeeze()\n",
    "    accuracy_total = matchings.sum().item() / batch_size\n",
    "    accuracy_class_0 = matchings[mask_class_0].sum().item() / n_class_0 if n_class_0 > 0 else 0.0\n",
    "    accuracy_class_1 = matchings[mask_class_1].sum().item() / n_class_1 if n_class_1 > 0 else 0.0\n",
    "\n",
    "    # Save accuracies\n",
    "    accuracies_class_0.append(accuracy_class_0)\n",
    "    accuracies_class_1.append(accuracy_class_1)\n",
    "        \n",
    "    print(f\"AccAll\", round(accuracy_total, 3), \"Acc0\", round(accuracy_class_0, 3), \"Acc1\", round(accuracy_class_1, 3))"
   ]
  },
  {
   "cell_type": "code",
   "execution_count": 10,
   "metadata": {},
   "outputs": [
    {
     "name": "stdout",
     "output_type": "stream",
     "text": [
      "Accuracy class 0: 0.9524723764559416, Accuracy class 1: 0.8043173489232932\n"
     ]
    }
   ],
   "source": [
    "mean_acc_class_0 = np.array(accuracies_class_0).mean()\n",
    "mean_acc_class_1 = np.array(accuracies_class_1).mean()\n",
    "\n",
    "print(f\"Accuracy class 0: {mean_acc_class_0}, Accuracy class 1: {mean_acc_class_1}\")"
   ]
  },
  {
   "cell_type": "code",
   "execution_count": null,
   "metadata": {},
   "outputs": [],
   "source": []
  }
 ],
 "metadata": {
  "kernelspec": {
   "display_name": "Python 3",
   "language": "python",
   "name": "python3"
  },
  "language_info": {
   "codemirror_mode": {
    "name": "ipython",
    "version": 3
   },
   "file_extension": ".py",
   "mimetype": "text/x-python",
   "name": "python",
   "nbconvert_exporter": "python",
   "pygments_lexer": "ipython3",
   "version": "3.10.6"
  }
 },
 "nbformat": 4,
 "nbformat_minor": 2
}
